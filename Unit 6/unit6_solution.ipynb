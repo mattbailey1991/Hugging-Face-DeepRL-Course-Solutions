{
 "cells": [
  {
   "cell_type": "code",
   "execution_count": null,
   "id": "defa88bd",
   "metadata": {},
   "outputs": [],
   "source": [
    "# Import and test pyvirtualdisplay\n",
    "!pip3 install pyvirtualdisplay\n",
    "!export DISPLAY=:0\n",
    "import os\n",
    "os.environ['PYVIRTUALDISPLAY_DISPLAYFD'] = '0'\n",
    "from pyvirtualdisplay import Display\n",
    "\n",
    "virtual_display = Display(visible=0, size=(1400, 900))\n",
    "virtual_display.start()"
   ]
  },
  {
   "cell_type": "code",
   "execution_count": null,
   "id": "479e56b2",
   "metadata": {},
   "outputs": [],
   "source": [
    "#######################################\n",
    "# INSTALL AND IMPORT DEPENDENCIES\n",
    "#######################################\n",
    "\n",
    "!pip install stable-baselines3[extra]\n",
    "!pip install gymnasium\n",
    "!pip install huggingface_sb3\n",
    "!pip install huggingface_hub\n",
    "!pip install panda_gym"
   ]
  },
  {
   "cell_type": "code",
   "execution_count": null,
   "id": "489ef4c3",
   "metadata": {},
   "outputs": [],
   "source": [
    "import os\n",
    "\n",
    "import gymnasium as gym\n",
    "import panda_gym\n",
    "\n",
    "from huggingface_sb3 import load_from_hub, package_to_hub\n",
    "\n",
    "from stable_baselines3 import A2C\n",
    "from stable_baselines3.common.evaluation import evaluate_policy\n",
    "from stable_baselines3.common.vec_env import DummyVecEnv, VecNormalize\n",
    "from stable_baselines3.common.env_util import make_vec_env\n",
    "\n",
    "from huggingface_hub import notebook_login"
   ]
  },
  {
   "cell_type": "code",
   "execution_count": null,
   "id": "16b0e538",
   "metadata": {},
   "outputs": [],
   "source": [
    "#######################################\n",
    "# CREATE ENVIRONMENT\n",
    "#######################################\n",
    "\n",
    "env_id = \"PandaReachDense-v3\"\n",
    "\n",
    "# Create the env\n",
    "env = gym.make(env_id)\n",
    "\n",
    "# Get the state space and action space\n",
    "s_size = env.observation_space.shape\n",
    "a_size = env.action_space\n",
    "\n",
    "print(\"_____OBSERVATION SPACE_____ \\n\")\n",
    "print(\"The State Space is: \", s_size)\n",
    "print(\"Sample observation\", env.observation_space.sample())"
   ]
  },
  {
   "cell_type": "code",
   "execution_count": null,
   "id": "bc60a322",
   "metadata": {},
   "outputs": [],
   "source": [
    "#######################################\n",
    "# VECTORIZE AND NORMALISE ENVIRONMENT\n",
    "#######################################\n",
    "\n",
    "env = make_vec_env(env_id, n_envs=4)\n",
    "\n",
    "env = VecNormalize(env, norm_obs=True, norm_reward=True, clip_obs=5.)"
   ]
  },
  {
   "cell_type": "code",
   "execution_count": null,
   "id": "fd8a3aff",
   "metadata": {},
   "outputs": [],
   "source": [
    "v#######################################\n",
    "# CREATE MODEL\n",
    "#######################################\n",
    "\n",
    "model = A2C(policy = \"MultiInputPolicy\",\n",
    "            env = env,\n",
    "            verbose=1,\n",
    "            device=\"cuda\")"
   ]
  },
  {
   "cell_type": "code",
   "execution_count": null,
   "id": "f8163c5d",
   "metadata": {},
   "outputs": [],
   "source": [
    "#######################################\n",
    "# TRAIN MODEL\n",
    "#######################################\n",
    "\n",
    "model.learn(1_000_000)"
   ]
  },
  {
   "cell_type": "code",
   "execution_count": null,
   "id": "6f2850d1",
   "metadata": {},
   "outputs": [],
   "source": [
    "model.save(\"a2c-PandaReachDense-v3\")\n",
    "env.save(\"vec_normalize.pkl\")"
   ]
  },
  {
   "cell_type": "code",
   "execution_count": null,
   "id": "0882031b",
   "metadata": {},
   "outputs": [],
   "source": [
    "#######################################\n",
    "# EVALUATE MODEL\n",
    "#######################################\n",
    "\n",
    "from stable_baselines3.common.vec_env import DummyVecEnv, VecNormalize\n",
    "\n",
    "# Load the saved statistics\n",
    "eval_env = DummyVecEnv([lambda: gym.make(\"PandaReachDense-v3\")])\n",
    "eval_env = VecNormalize.load(\"vec_normalize.pkl\", eval_env)\n",
    "\n",
    "# We need to override the render_mode\n",
    "eval_env.render_mode = \"rgb_array\"\n",
    "\n",
    "#  do not update them at test time\n",
    "eval_env.training = False\n",
    "# reward normalization is not needed at test time\n",
    "eval_env.norm_reward = False\n",
    "\n",
    "# Load the agent\n",
    "model = A2C.load(\"a2c-PandaReachDense-v3\")\n",
    "\n",
    "mean_reward, std_reward = evaluate_policy(model, eval_env)\n",
    "\n",
    "print(f\"Mean reward = {mean_reward:.2f} +/- {std_reward:.2f}\")"
   ]
  },
  {
   "cell_type": "code",
   "execution_count": null,
   "id": "2a3d43d4",
   "metadata": {},
   "outputs": [],
   "source": [
    "#######################################\n",
    "# PUSH TO HUB\n",
    "#######################################\n",
    "\n",
    "notebook_login()"
   ]
  },
  {
   "cell_type": "code",
   "execution_count": null,
   "id": "537ebf07",
   "metadata": {},
   "outputs": [],
   "source": [
    "from huggingface_sb3 import package_to_hub\n",
    "\n",
    "package_to_hub(\n",
    "    model=model,\n",
    "    model_name=f\"a2c-{env_id}\",\n",
    "    model_architecture=\"A2C\",\n",
    "    env_id=env_id,\n",
    "    eval_env=eval_env,\n",
    "    repo_id=f\"mattbailey1991/a2c-{env_id}\", # Change the username\n",
    "    commit_message=\"Initial commit\",\n",
    ")"
   ]
  },
  {
   "cell_type": "code",
   "execution_count": null,
   "id": "4c804b5a",
   "metadata": {},
   "outputs": [],
   "source": []
  }
 ],
 "metadata": {
  "kernelspec": {
   "display_name": "Python 3",
   "language": "python",
   "name": "python3"
  },
  "language_info": {
   "codemirror_mode": {
    "name": "ipython",
    "version": 3
   },
   "file_extension": ".py",
   "mimetype": "text/x-python",
   "name": "python",
   "nbconvert_exporter": "python",
   "pygments_lexer": "ipython3",
   "version": "3.10.12"
  }
 },
 "nbformat": 4,
 "nbformat_minor": 5
}

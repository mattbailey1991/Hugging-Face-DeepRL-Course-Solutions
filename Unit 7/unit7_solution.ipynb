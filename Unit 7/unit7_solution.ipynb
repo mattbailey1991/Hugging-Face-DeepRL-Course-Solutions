{
 "cells": [
  {
   "cell_type": "code",
   "execution_count": null,
   "id": "1b3ae42e",
   "metadata": {},
   "outputs": [],
   "source": [
    "!git clone https://github.com/Unity-Technologies/ml-agents"
   ]
  },
  {
   "cell_type": "code",
   "execution_count": null,
   "id": "89c63d80",
   "metadata": {},
   "outputs": [],
   "source": [
    "%cd ml-agents\n",
    "!pip install -e ./ml-agents-envs\n",
    "!pip install -e ./ml-agents"
   ]
  },
  {
   "cell_type": "code",
   "execution_count": null,
   "id": "903c2f40",
   "metadata": {},
   "outputs": [],
   "source": [
    "%mkdir ./training-envs-executables\n",
    "%mkdir ./training-envs-executables/linux"
   ]
  },
  {
   "cell_type": "code",
   "execution_count": null,
   "id": "7e21ebe1",
   "metadata": {},
   "outputs": [],
   "source": [
    "!wget --no-check-certificate \"https://docs.google.com/uc?export=download&id=1KuqBKYiXiIcU4kNMqEzhgypuFP5_45CL\" -O ./training-envs-executables/linux/SoccerTwos.zip"
   ]
  },
  {
   "cell_type": "code",
   "execution_count": null,
   "id": "ca7cf4eb",
   "metadata": {},
   "outputs": [],
   "source": [
    "!unzip -d ./training-envs-executables/linux/ ./training-envs-executables/linux/SoccerTwos.zip"
   ]
  },
  {
   "cell_type": "code",
   "execution_count": null,
   "id": "0ee7334a",
   "metadata": {},
   "outputs": [],
   "source": [
    "!mlagents-learn ./config/poca/SoccerTwos.yaml --env=./training-envs-executables/linux/SoccerTwos.exe --torch-device \"cuda:0\" --run-id=\"SoccerTwos\" --no-graphics --force"
   ]
  },
  {
   "cell_type": "code",
   "execution_count": null,
   "id": "88b6ccdd",
   "metadata": {},
   "outputs": [],
   "source": [
    "from huggingface_hub import notebook_login\n",
    "\n",
    "notebook_login()"
   ]
  },
  {
   "cell_type": "code",
   "execution_count": null,
   "id": "2bec1c99",
   "metadata": {},
   "outputs": [],
   "source": [
    "!mlagents-push-to-hf  --run-id=\"SoccerTwos\" --local-dir=\"./results/SoccerTwos\" --repo-id=\"mattbailey1991/poca-SoccerTwos\" --commit-message=\"First Push\""
   ]
  },
  {
   "cell_type": "code",
   "execution_count": null,
   "id": "7b9f6717",
   "metadata": {},
   "outputs": [],
   "source": []
  }
 ],
 "metadata": {
  "kernelspec": {
   "display_name": "Python 3",
   "language": "python",
   "name": "python3"
  },
  "language_info": {
   "codemirror_mode": {
    "name": "ipython",
    "version": 3
   },
   "file_extension": ".py",
   "mimetype": "text/x-python",
   "name": "python",
   "nbconvert_exporter": "python",
   "pygments_lexer": "ipython3",
   "version": "3.10.12"
  }
 },
 "nbformat": 4,
 "nbformat_minor": 5
}

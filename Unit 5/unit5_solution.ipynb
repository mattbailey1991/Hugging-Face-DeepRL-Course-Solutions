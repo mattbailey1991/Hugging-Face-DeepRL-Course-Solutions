{
 "cells": [
  {
   "cell_type": "code",
   "execution_count": null,
   "id": "d8a7d0bc",
   "metadata": {},
   "outputs": [],
   "source": [
    "# Clone the repository (can take 3min)\n",
    "!git clone --depth 1 https://github.com/Unity-Technologies/ml-agents"
   ]
  },
  {
   "cell_type": "code",
   "execution_count": null,
   "id": "bcf1ce79",
   "metadata": {},
   "outputs": [],
   "source": [
    "# Go inside the repository and install the package (can take 3min)\n",
    "%cd ml-agents\n",
    "!pip3 install -e ./ml-agents-envs\n",
    "!pip3 install -e ./ml-agents"
   ]
  },
  {
   "cell_type": "code",
   "execution_count": null,
   "id": "e0495279",
   "metadata": {},
   "outputs": [],
   "source": [
    "!pip3 install tensorrt"
   ]
  },
  {
   "cell_type": "code",
   "execution_count": null,
   "id": "b136a9b0",
   "metadata": {},
   "outputs": [],
   "source": [
    "# Import and start pyvirtualdisplay\n",
    "!pip3 install pyvirtualdisplay\n",
    "!export DISPLAY=:0\n",
    "import os\n",
    "os.environ['PYVIRTUALDISPLAY_DISPLAYFD'] = '0'\n",
    "from pyvirtualdisplay import Display\n",
    "\n",
    "virtual_display = Display(visible=0, size=(1400, 900))\n",
    "virtual_display.start()"
   ]
  },
  {
   "cell_type": "code",
   "execution_count": null,
   "id": "7dc11941",
   "metadata": {},
   "outputs": [],
   "source": [
    "# Here, we create training-envs-executables and linux\n",
    "%mkdir ./training-envs-executables\n",
    "%mkdir ./training-envs-executables/linux"
   ]
  },
  {
   "cell_type": "code",
   "execution_count": null,
   "id": "0b887c6c",
   "metadata": {},
   "outputs": [],
   "source": [
    "# Get the environment\n",
    "!wget \"https://github.com/huggingface/Snowball-Target/raw/main/SnowballTarget.zip\" -O ./training-envs-executables/linux/SnowballTarget.zip\n",
    "!unzip -d ./training-envs-executables/linux/ ./training-envs-executables/linux/SnowballTarget.zip\n",
    "!chmod -R 755 ./training-envs-executables/linux/SnowballTarget"
   ]
  },
  {
   "cell_type": "code",
   "execution_count": null,
   "id": "f12bb477",
   "metadata": {},
   "outputs": [],
   "source": [
    "!mlagents-learn ./config/ppo/SnowballTarget.yaml --env=./training-envs-executables/linux/SnowballTarget/SnowballTarget --torch-device \"cuda:0\" --run-id=\"SnowballTarget1\" --no-graphics --force"
   ]
  },
  {
   "cell_type": "code",
   "execution_count": null,
   "id": "9670b2de",
   "metadata": {},
   "outputs": [],
   "source": [
    "from huggingface_hub import notebook_login\n",
    "\n",
    "notebook_login()"
   ]
  },
  {
   "cell_type": "code",
   "execution_count": null,
   "id": "c046431e",
   "metadata": {},
   "outputs": [],
   "source": [
    "!mlagents-push-to-hf --run-id=\"SnowballTarget1\" --local-dir=\"./results/SnowballTarget1\" --repo-id=\"mattbailey1991/ppo-SnowballTarget\" --commit-message=\"Trained model\""
   ]
  },
  {
   "cell_type": "code",
   "execution_count": null,
   "id": "c2dd6260",
   "metadata": {},
   "outputs": [],
   "source": [
    "!wget \"https://huggingface.co/spaces/unity/ML-Agents-Pyramids/resolve/main/Pyramids.zip\" -O ./training-envs-executables/linux/Pyramids.zip\n",
    "!unzip -d ./training-envs-executables/linux/ ./training-envs-executables/linux/Pyramids.zip\n",
    "!chmod -R 755 ./training-envs-executables/linux/Pyramids/Pyramids"
   ]
  },
  {
   "cell_type": "code",
   "execution_count": null,
   "id": "91fdcc4f",
   "metadata": {},
   "outputs": [],
   "source": [
    "!mlagents-learn ./config/ppo/PyramidsRND.yaml --env=./training-envs-executables/linux/Pyramids/Pyramids --run-id=\"Pyramids Training\" --no-graphics --torch-device \"cuda:0\""
   ]
  },
  {
   "cell_type": "code",
   "execution_count": null,
   "id": "29b0a725",
   "metadata": {},
   "outputs": [],
   "source": [
    "!mlagents-push-to-hf --run-id=\"Pyramids Training\" --local-dir=\"./results/Pyramids Training\" --repo-id=\"mattbailey1991/ppo-Pyramids\" --commit-message=\"Trained model\""
   ]
  },
  {
   "cell_type": "code",
   "execution_count": null,
   "id": "ae01a41a",
   "metadata": {},
   "outputs": [],
   "source": []
  }
 ],
 "metadata": {
  "kernelspec": {
   "display_name": "Python 3",
   "language": "python",
   "name": "python3"
  },
  "language_info": {
   "codemirror_mode": {
    "name": "ipython",
    "version": 3
   },
   "file_extension": ".py",
   "mimetype": "text/x-python",
   "name": "python",
   "nbconvert_exporter": "python",
   "pygments_lexer": "ipython3",
   "version": "3.10.12"
  }
 },
 "nbformat": 4,
 "nbformat_minor": 5
}
